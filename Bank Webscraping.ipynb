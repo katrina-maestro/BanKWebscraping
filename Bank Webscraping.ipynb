{
 "cells": [
  {
   "cell_type": "code",
   "execution_count": 32,
   "id": "9277a7aa-e338-4a38-b7ef-9b33e341eb2c",
   "metadata": {},
   "outputs": [],
   "source": [
    "from bs4 import BeautifulSoup\n",
    "import html5lib\n",
    "import requests\n",
    "import pandas as pd\n",
    "import matplotlib.pyplot as plt"
   ]
  },
  {
   "cell_type": "code",
   "execution_count": 4,
   "id": "ba868c7f-ac2f-4bdf-b23f-5303461c3a6e",
   "metadata": {},
   "outputs": [],
   "source": [
    "#scraping the data from a website \n",
    "#Write your code here\n",
    "url = \"https://web.archive.org/web/20200318083015/https://en.wikipedia.org/wiki/List_of_largest_banks\"\n",
    "html_data = requests.get(url).text"
   ]
  },
  {
   "cell_type": "code",
   "execution_count": 6,
   "id": "b20b1169-f0b1-4702-a4d6-121f27793edc",
   "metadata": {},
   "outputs": [
    {
     "data": {
      "text/plain": [
       "'web.archive.org/\",\"web\"'"
      ]
     },
     "execution_count": 6,
     "metadata": {},
     "output_type": "execute_result"
    }
   ],
   "source": [
    "html_data[760:783]"
   ]
  },
  {
   "cell_type": "code",
   "execution_count": 8,
   "id": "1308ae18-f9ca-4070-b79b-0c4d68299bf3",
   "metadata": {},
   "outputs": [],
   "source": [
    "#parsing the html data using beautiful soup \n",
    "soup = BeautifulSoup(html_data, \"html.parser\") "
   ]
  },
  {
   "cell_type": "code",
   "execution_count": 14,
   "id": "9104e116",
   "metadata": {},
   "outputs": [],
   "source": [
    "data = pd.DataFrame(columns=[\"Bank Name\", \"Market Cap US$ Billion\"])\n",
    "\n",
    "# Find the table by class name\n",
    "table = soup.find_all(\"table\")[2]  # selecting a table based on the index on the page \n",
    "# Extract data from the table rows\n",
    "for row in table.find_all(\"tr\"):\n",
    "    cols = row.find_all(\"td\")\n",
    "    # Check if there are at least two columns in the ro\n",
    "    if len(cols) >= 2: \n",
    "        name = cols[1].text.strip() # using the strip function to remove the spaces \n",
    "        market_cap = cols[2].text.strip()\n",
    "        data = data._append({\"Bank Name\": name, \"Market Cap US$ Billion\": market_cap}, ignore_index=True)"
   ]
  },
  {
   "cell_type": "code",
   "execution_count": 82,
   "id": "188b4aa1-59ed-4b9e-b6a1-2bc09288e8eb",
   "metadata": {},
   "outputs": [
    {
     "data": {
      "text/html": [
       "<div>\n",
       "<style scoped>\n",
       "    .dataframe tbody tr th:only-of-type {\n",
       "        vertical-align: middle;\n",
       "    }\n",
       "\n",
       "    .dataframe tbody tr th {\n",
       "        vertical-align: top;\n",
       "    }\n",
       "\n",
       "    .dataframe thead th {\n",
       "        text-align: right;\n",
       "    }\n",
       "</style>\n",
       "<table border=\"1\" class=\"dataframe\">\n",
       "  <thead>\n",
       "    <tr style=\"text-align: right;\">\n",
       "      <th></th>\n",
       "      <th>Bank Name</th>\n",
       "      <th>Market Cap US$ Billion</th>\n",
       "    </tr>\n",
       "  </thead>\n",
       "  <tbody>\n",
       "    <tr>\n",
       "      <th>20</th>\n",
       "      <td>HDFC Bank</td>\n",
       "      <td>100</td>\n",
       "    </tr>\n",
       "    <tr>\n",
       "      <th>16</th>\n",
       "      <td>Goldman Sachs</td>\n",
       "      <td>100.705</td>\n",
       "    </tr>\n",
       "    <tr>\n",
       "      <th>15</th>\n",
       "      <td>BNP Paribas</td>\n",
       "      <td>103.258</td>\n",
       "    </tr>\n",
       "    <tr>\n",
       "      <th>14</th>\n",
       "      <td>Toronto-Dominion Bank</td>\n",
       "      <td>108.449</td>\n",
       "    </tr>\n",
       "    <tr>\n",
       "      <th>13</th>\n",
       "      <td>Mitsubishi UFJ Financial Group</td>\n",
       "      <td>111.660</td>\n",
       "    </tr>\n",
       "    <tr>\n",
       "      <th>...</th>\n",
       "      <td>...</td>\n",
       "      <td>...</td>\n",
       "    </tr>\n",
       "    <tr>\n",
       "      <th>22</th>\n",
       "      <td>Westpac</td>\n",
       "      <td>84.560</td>\n",
       "    </tr>\n",
       "    <tr>\n",
       "      <th>21</th>\n",
       "      <td>Itaú Unibanco</td>\n",
       "      <td>86.203</td>\n",
       "    </tr>\n",
       "    <tr>\n",
       "      <th>19</th>\n",
       "      <td>U.S. Bancorp</td>\n",
       "      <td>94.558</td>\n",
       "    </tr>\n",
       "    <tr>\n",
       "      <th>18</th>\n",
       "      <td>Morgan Stanley</td>\n",
       "      <td>99.651</td>\n",
       "    </tr>\n",
       "    <tr>\n",
       "      <th>17</th>\n",
       "      <td>Sberbank of Russia</td>\n",
       "      <td>99.840</td>\n",
       "    </tr>\n",
       "  </tbody>\n",
       "</table>\n",
       "<p>70 rows × 2 columns</p>\n",
       "</div>"
      ],
      "text/plain": [
       "                         Bank Name Market Cap US$ Billion\n",
       "20                       HDFC Bank                    100\n",
       "16                   Goldman Sachs                100.705\n",
       "15                     BNP Paribas                103.258\n",
       "14           Toronto-Dominion Bank                108.449\n",
       "13  Mitsubishi UFJ Financial Group                111.660\n",
       "..                             ...                    ...\n",
       "22                         Westpac                 84.560\n",
       "21                   Itaú Unibanco                 86.203\n",
       "19                    U.S. Bancorp                 94.558\n",
       "18                  Morgan Stanley                 99.651\n",
       "17              Sberbank of Russia                 99.840\n",
       "\n",
       "[70 rows x 2 columns]"
      ]
     },
     "execution_count": 82,
     "metadata": {},
     "output_type": "execute_result"
    }
   ],
   "source": [
    "data"
   ]
  },
  {
   "cell_type": "code",
   "execution_count": 30,
   "id": "796ae95d",
   "metadata": {},
   "outputs": [],
   "source": [
    "bank_assets = pd.DataFrame( columns=[\"Bank Name\", \"Total Assets US$ Billion\"])\n",
    "asset_table = soup.find_all(\"table\")[0]\n",
    "\n",
    "for row in asset_table.find_all(\"tr\"):\n",
    "    table_column = row.find_all(\"td\")\n",
    "    if len(table_column)>=2: \n",
    "        bank_name = table_column[1].text.strip() \n",
    "        total_assets = table_column[2].text.strip()\n",
    "        bank_assets = bank_assets._append({\"Bank Name\":bank_name, \"Total Assets US$ Billion\":total_assets}, ignore_index=True)"
   ]
  },
  {
   "cell_type": "code",
   "execution_count": 31,
   "id": "e556fc0d",
   "metadata": {},
   "outputs": [
    {
     "data": {
      "text/html": [
       "<div>\n",
       "<style scoped>\n",
       "    .dataframe tbody tr th:only-of-type {\n",
       "        vertical-align: middle;\n",
       "    }\n",
       "\n",
       "    .dataframe tbody tr th {\n",
       "        vertical-align: top;\n",
       "    }\n",
       "\n",
       "    .dataframe thead th {\n",
       "        text-align: right;\n",
       "    }\n",
       "</style>\n",
       "<table border=\"1\" class=\"dataframe\">\n",
       "  <thead>\n",
       "    <tr style=\"text-align: right;\">\n",
       "      <th></th>\n",
       "      <th>Bank Name</th>\n",
       "      <th>Total Assets US$ Billion</th>\n",
       "    </tr>\n",
       "  </thead>\n",
       "  <tbody>\n",
       "    <tr>\n",
       "      <th>0</th>\n",
       "      <td>Industrial and Commercial Bank of China</td>\n",
       "      <td>4,027.44</td>\n",
       "    </tr>\n",
       "    <tr>\n",
       "      <th>1</th>\n",
       "      <td>China Construction Bank</td>\n",
       "      <td>3,376.52</td>\n",
       "    </tr>\n",
       "    <tr>\n",
       "      <th>2</th>\n",
       "      <td>Agricultural Bank of China</td>\n",
       "      <td>3,287.36</td>\n",
       "    </tr>\n",
       "    <tr>\n",
       "      <th>3</th>\n",
       "      <td>Bank of China</td>\n",
       "      <td>3,092.21</td>\n",
       "    </tr>\n",
       "    <tr>\n",
       "      <th>4</th>\n",
       "      <td>Mitsubishi UFJ Financial Group</td>\n",
       "      <td>3,069.20</td>\n",
       "    </tr>\n",
       "    <tr>\n",
       "      <th>...</th>\n",
       "      <td>...</td>\n",
       "      <td>...</td>\n",
       "    </tr>\n",
       "    <tr>\n",
       "      <th>96</th>\n",
       "      <td>Swedbank</td>\n",
       "      <td>254.74</td>\n",
       "    </tr>\n",
       "    <tr>\n",
       "      <th>97</th>\n",
       "      <td>BayernLB</td>\n",
       "      <td>252.15</td>\n",
       "    </tr>\n",
       "    <tr>\n",
       "      <th>98</th>\n",
       "      <td>State Street Corporation</td>\n",
       "      <td>244.60</td>\n",
       "    </tr>\n",
       "    <tr>\n",
       "      <th>99</th>\n",
       "      <td>China Zheshang Bank</td>\n",
       "      <td>239.43</td>\n",
       "    </tr>\n",
       "    <tr>\n",
       "      <th>100</th>\n",
       "      <td>Bankia</td>\n",
       "      <td>237.77</td>\n",
       "    </tr>\n",
       "  </tbody>\n",
       "</table>\n",
       "<p>101 rows × 2 columns</p>\n",
       "</div>"
      ],
      "text/plain": [
       "                                   Bank Name Total Assets US$ Billion\n",
       "0    Industrial and Commercial Bank of China                 4,027.44\n",
       "1                    China Construction Bank                 3,376.52\n",
       "2                 Agricultural Bank of China                 3,287.36\n",
       "3                              Bank of China                 3,092.21\n",
       "4             Mitsubishi UFJ Financial Group                 3,069.20\n",
       "..                                       ...                      ...\n",
       "96                                  Swedbank                   254.74\n",
       "97                                  BayernLB                   252.15\n",
       "98                  State Street Corporation                   244.60\n",
       "99                       China Zheshang Bank                   239.43\n",
       "100                                   Bankia                   237.77\n",
       "\n",
       "[101 rows x 2 columns]"
      ]
     },
     "execution_count": 31,
     "metadata": {},
     "output_type": "execute_result"
    }
   ],
   "source": [
    "bank_assets"
   ]
  },
  {
   "cell_type": "code",
   "execution_count": 40,
   "id": "60b5a749",
   "metadata": {},
   "outputs": [],
   "source": [
    "top_bank_assets = bank_assets.iloc[0:10,:]"
   ]
  },
  {
   "cell_type": "code",
   "execution_count": 41,
   "id": "248c2bd6",
   "metadata": {
    "scrolled": true
   },
   "outputs": [
    {
     "data": {
      "text/html": [
       "<div>\n",
       "<style scoped>\n",
       "    .dataframe tbody tr th:only-of-type {\n",
       "        vertical-align: middle;\n",
       "    }\n",
       "\n",
       "    .dataframe tbody tr th {\n",
       "        vertical-align: top;\n",
       "    }\n",
       "\n",
       "    .dataframe thead th {\n",
       "        text-align: right;\n",
       "    }\n",
       "</style>\n",
       "<table border=\"1\" class=\"dataframe\">\n",
       "  <thead>\n",
       "    <tr style=\"text-align: right;\">\n",
       "      <th></th>\n",
       "      <th>Bank Name</th>\n",
       "      <th>Total Assets US$ Billion</th>\n",
       "    </tr>\n",
       "  </thead>\n",
       "  <tbody>\n",
       "    <tr>\n",
       "      <th>0</th>\n",
       "      <td>Industrial and Commercial Bank of China</td>\n",
       "      <td>4,027.44</td>\n",
       "    </tr>\n",
       "    <tr>\n",
       "      <th>1</th>\n",
       "      <td>China Construction Bank</td>\n",
       "      <td>3,376.52</td>\n",
       "    </tr>\n",
       "    <tr>\n",
       "      <th>2</th>\n",
       "      <td>Agricultural Bank of China</td>\n",
       "      <td>3,287.36</td>\n",
       "    </tr>\n",
       "    <tr>\n",
       "      <th>3</th>\n",
       "      <td>Bank of China</td>\n",
       "      <td>3,092.21</td>\n",
       "    </tr>\n",
       "    <tr>\n",
       "      <th>4</th>\n",
       "      <td>Mitsubishi UFJ Financial Group</td>\n",
       "      <td>3,069.20</td>\n",
       "    </tr>\n",
       "    <tr>\n",
       "      <th>5</th>\n",
       "      <td>HSBC Holdings PLC</td>\n",
       "      <td>2,715.15</td>\n",
       "    </tr>\n",
       "    <tr>\n",
       "      <th>6</th>\n",
       "      <td>JPMorgan Chase</td>\n",
       "      <td>2,687.38</td>\n",
       "    </tr>\n",
       "    <tr>\n",
       "      <th>7</th>\n",
       "      <td>Bank of America</td>\n",
       "      <td>2,354.51</td>\n",
       "    </tr>\n",
       "    <tr>\n",
       "      <th>8</th>\n",
       "      <td>BNP Paribas</td>\n",
       "      <td>2,336.66</td>\n",
       "    </tr>\n",
       "    <tr>\n",
       "      <th>9</th>\n",
       "      <td>Crédit Agricole</td>\n",
       "      <td>2,123.61</td>\n",
       "    </tr>\n",
       "  </tbody>\n",
       "</table>\n",
       "</div>"
      ],
      "text/plain": [
       "                                 Bank Name Total Assets US$ Billion\n",
       "0  Industrial and Commercial Bank of China                 4,027.44\n",
       "1                  China Construction Bank                 3,376.52\n",
       "2               Agricultural Bank of China                 3,287.36\n",
       "3                            Bank of China                 3,092.21\n",
       "4           Mitsubishi UFJ Financial Group                 3,069.20\n",
       "5                        HSBC Holdings PLC                 2,715.15\n",
       "6                           JPMorgan Chase                 2,687.38\n",
       "7                          Bank of America                 2,354.51\n",
       "8                              BNP Paribas                 2,336.66\n",
       "9                          Crédit Agricole                 2,123.61"
      ]
     },
     "execution_count": 41,
     "metadata": {},
     "output_type": "execute_result"
    }
   ],
   "source": [
    "top_bank_assets "
   ]
  },
  {
   "cell_type": "code",
   "execution_count": 57,
   "id": "c74c6c9a",
   "metadata": {},
   "outputs": [],
   "source": [
    "top_bank_assets = top_bank_assets.sort_values(by=\"Total Assets US$ Billion\", ascending=True)"
   ]
  },
  {
   "cell_type": "code",
   "execution_count": 64,
   "id": "35cfa6bc-4a0d-4dfa-8064-8ecd83426215",
   "metadata": {},
   "outputs": [
    {
     "data": {
      "image/png": "[encoded data removed]",
      "text/plain": [
       "<Figure size 720x432 with 1 Axes>"
      ]
     },
     "metadata": {
      "needs_background": "light"
     },
     "output_type": "display_data"
    }
   ],
   "source": [
    "# Create horizontal bar plot\n",
    "plt.figure(figsize=(10, 6))\n",
    "plt.barh(top_bank_assets[\"Bank Name\"], top_bank_assets[\"Total Assets US$ Billion\"], color='skyblue')\n",
    "plt.xlabel('Total Assets (US$ Billion)')\n",
    "plt.title('Top 10 Banks by Total Assets')\n",
    "#plt.gca().invert_yaxis()  # Invert y-axis to display the highest asset bank on top\n",
    "#plt.gca().invert_xaxis()  # Invert x-axis to start from the lowest value\n",
    "plt.show()"
   ]
  },
  {
   "cell_type": "code",
   "execution_count": null,
   "id": "07725a0c",
   "metadata": {},
   "outputs": [],
   "source": []
  }
 ],
 "metadata": {
  "kernelspec": {
   "display_name": "Python 3 (ipykernel)",
   "language": "python",
   "name": "python3"
  },
  "language_info": {
   "codemirror_mode": {
    "name": "ipython",
    "version": 3
   },
   "file_extension": ".py",
   "mimetype": "text/x-python",
   "name": "python",
   "nbconvert_exporter": "python",
   "pygments_lexer": "ipython3",
   "version": "3.9.1"
  }
 },
 "nbformat": 4,
 "nbformat_minor": 5
}
